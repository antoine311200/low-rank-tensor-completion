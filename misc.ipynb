{
 "cells": [
  {
   "cell_type": "code",
   "execution_count": 24,
   "metadata": {},
   "outputs": [
    {
     "name": "stdout",
     "output_type": "stream",
     "text": [
      "The autoreload extension is already loaded. To reload it, use:\n",
      "  %reload_ext autoreload\n"
     ]
    }
   ],
   "source": [
    "%load_ext autoreload\n",
    "%autoreload 2"
   ]
  },
  {
   "cell_type": "code",
   "execution_count": 25,
   "metadata": {},
   "outputs": [],
   "source": [
    "from tensor_completion import loss, norm, utils\n",
    "import numpy as np"
   ]
  },
  {
   "cell_type": "code",
   "execution_count": 13,
   "metadata": {},
   "outputs": [
    {
     "data": {
      "text/plain": [
       "array([[[ 0,  1,  2,  3],\n",
       "        [ 4,  5,  6,  7],\n",
       "        [ 8,  9, 10, 11]],\n",
       "\n",
       "       [[12, 13, 14, 15],\n",
       "        [16, 17, 18, 19],\n",
       "        [20, 21, 22, 23]]])"
      ]
     },
     "execution_count": 13,
     "metadata": {},
     "output_type": "execute_result"
    }
   ],
   "source": [
    "# Create a simple 3rd order tensor\n",
    "X = np.arange(24).reshape(2, 3, 4)\n",
    "X"
   ]
  },
  {
   "cell_type": "code",
   "execution_count": 14,
   "metadata": {},
   "outputs": [
    {
     "name": "stdout",
     "output_type": "stream",
     "text": [
      "Shape of X:  (2, 3, 4)\n",
      "------------------\n",
      "Shape of X0:  (2, 12)\n",
      "Shape of X1:  (3, 8)\n",
      "Shape of X2:  (4, 6)\n"
     ]
    },
    {
     "data": {
      "text/plain": [
       "(array([[ 0,  1,  2,  3,  4,  5,  6,  7,  8,  9, 10, 11],\n",
       "        [12, 13, 14, 15, 16, 17, 18, 19, 20, 21, 22, 23]]),\n",
       " array([[ 0,  1,  2,  3, 12, 13, 14, 15],\n",
       "        [ 4,  5,  6,  7, 16, 17, 18, 19],\n",
       "        [ 8,  9, 10, 11, 20, 21, 22, 23]]),\n",
       " array([[ 0,  4,  8, 12, 16, 20],\n",
       "        [ 1,  5,  9, 13, 17, 21],\n",
       "        [ 2,  6, 10, 14, 18, 22],\n",
       "        [ 3,  7, 11, 15, 19, 23]]))"
      ]
     },
     "execution_count": 14,
     "metadata": {},
     "output_type": "execute_result"
    }
   ],
   "source": [
    "X0 = utils.unfold(X, 0)\n",
    "X1 = utils.unfold(X, 1)\n",
    "X2 = utils.unfold(X, 2)\n",
    "\n",
    "print('Shape of X: ', X.shape)\n",
    "print('------------------')\n",
    "print('Shape of X0: ', X0.shape)\n",
    "print('Shape of X1: ', X1.shape)\n",
    "print('Shape of X2: ', X2.shape)\n",
    "\n",
    "X0, X1, X2"
   ]
  },
  {
   "cell_type": "code",
   "execution_count": 46,
   "metadata": {},
   "outputs": [
    {
     "name": "stdout",
     "output_type": "stream",
     "text": [
      "Shape of Xfold0:  (2, 3, 4)\n",
      "Shape of Xfold1:  (2, 3, 4)\n",
      "Shape of Xfold2:  (2, 3, 4)\n"
     ]
    },
    {
     "data": {
      "text/plain": [
       "(array([[[ 0,  1,  2,  3],\n",
       "         [ 4,  5,  6,  7],\n",
       "         [ 8,  9, 10, 11]],\n",
       " \n",
       "        [[12, 13, 14, 15],\n",
       "         [16, 17, 18, 19],\n",
       "         [20, 21, 22, 23]]]),\n",
       " array([[[ 0,  1,  2,  3],\n",
       "         [ 4,  5,  6,  7],\n",
       "         [ 8,  9, 10, 11]],\n",
       " \n",
       "        [[12, 13, 14, 15],\n",
       "         [16, 17, 18, 19],\n",
       "         [20, 21, 22, 23]]]),\n",
       " array([[[ 0,  1,  2,  3],\n",
       "         [ 4,  5,  6,  7],\n",
       "         [ 8,  9, 10, 11]],\n",
       " \n",
       "        [[12, 13, 14, 15],\n",
       "         [16, 17, 18, 19],\n",
       "         [20, 21, 22, 23]]]))"
      ]
     },
     "execution_count": 46,
     "metadata": {},
     "output_type": "execute_result"
    }
   ],
   "source": [
    "Xfold0 = utils.fold(X0, 0, X.shape)\n",
    "Xfold1 = utils.fold(X1, 1, X.shape)\n",
    "Xfold2 = utils.fold(X2, 2, X.shape)\n",
    "\n",
    "print('Shape of Xfold0: ', Xfold0.shape)\n",
    "print('Shape of Xfold1: ', Xfold1.shape)\n",
    "print('Shape of Xfold2: ', Xfold2.shape)\n",
    "\n",
    "Xfold0, Xfold1, Xfold2"
   ]
  },
  {
   "cell_type": "code",
   "execution_count": 21,
   "metadata": {},
   "outputs": [
    {
     "name": "stdout",
     "output_type": "stream",
     "text": [
      "Tensor nuclear norm:  68.48799935460568\n",
      "------------------\n",
      "Nucleus norm of X0:  72.92592905480178\n",
      "Nucleus norm of X1:  72.66907628981167\n",
      "Nucleus norm of X2:  68.48799935460568\n",
      "\n",
      "Singular values of X0:  [65.32  7.61]\n",
      "Singular values of X1:  [65.35  7.32  0.  ]\n",
      "Singular values of X2:  [65.7   2.79  0.    0.  ]\n"
     ]
    }
   ],
   "source": [
    "tnn = norm.tensor_nuclear_norm(X)\n",
    "\n",
    "nn0 = norm.nucleus_norm(X0)\n",
    "nn1 = norm.nucleus_norm(X1)\n",
    "nn2 = norm.nucleus_norm(X2)\n",
    "\n",
    "sv0 = np.linalg.svd(X0, compute_uv=False)\n",
    "sv1 = np.linalg.svd(X1, compute_uv=False)\n",
    "sv2 = np.linalg.svd(X2, compute_uv=False)\n",
    "\n",
    "print('Tensor nuclear norm: ', tnn)\n",
    "print('------------------')\n",
    "print('Nucleus norm of X0: ', nn0)\n",
    "print('Nucleus norm of X1: ', nn1)\n",
    "print('Nucleus norm of X2: ', nn2)\n",
    "print()\n",
    "print('Singular values of X0: ', sv0.round(2))\n",
    "print('Singular values of X1: ', sv1.round(2))\n",
    "print('Singular values of X2: ', sv2.round(2))"
   ]
  },
  {
   "cell_type": "code",
   "execution_count": 37,
   "metadata": {},
   "outputs": [
    {
     "name": "stdout",
     "output_type": "stream",
     "text": [
      "Verification of the NumPy implementation of the autoregressive norm:\n",
      "- for loops : 159494\n",
      "- numpy : 159494\n"
     ]
    }
   ],
   "source": [
    "# Create a simple matrix\n",
    "Z = np.arange(12).reshape(3, 4)\n",
    "\n",
    "# Create a simple coefficient matrix\n",
    "A = np.arange(9).reshape(3, 3)\n",
    "\n",
    "# Create a simple lag set of indices\n",
    "h_indices = np.array([0, 1, 2])\n",
    "\n",
    "\n",
    "diff = Z.copy()\n",
    "for m in range(len(Z)):\n",
    "    for t in range(len(Z[0])):\n",
    "        for i in range(len(h_indices)):\n",
    "            diff[m][t] -= A[m][i] * Z[m][t - h_indices[i]]\n",
    "\n",
    "print('Verification of the NumPy implementation of the autoregressive norm:')\n",
    "print(\"- for loops :\", np.sum(diff**2))\n",
    "print(\"- numpy :\", norm.autoregressive_norm(Z, A, h_indices))"
   ]
  },
  {
   "cell_type": "code",
   "execution_count": null,
   "metadata": {},
   "outputs": [],
   "source": []
  }
 ],
 "metadata": {
  "kernelspec": {
   "display_name": "Python 3",
   "language": "python",
   "name": "python3"
  },
  "language_info": {
   "codemirror_mode": {
    "name": "ipython",
    "version": 3
   },
   "file_extension": ".py",
   "mimetype": "text/x-python",
   "name": "python",
   "nbconvert_exporter": "python",
   "pygments_lexer": "ipython3",
   "version": "3.9.7"
  }
 },
 "nbformat": 4,
 "nbformat_minor": 2
}
